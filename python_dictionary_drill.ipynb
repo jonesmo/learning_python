{
  "nbformat": 4,
  "nbformat_minor": 0,
  "metadata": {
    "kernelspec": {
      "display_name": "Python 3",
      "language": "python",
      "name": "python3"
    },
    "language_info": {
      "codemirror_mode": {
        "name": "ipython",
        "version": 3
      },
      "file_extension": ".py",
      "mimetype": "text/x-python",
      "name": "python",
      "nbconvert_exporter": "python",
      "pygments_lexer": "ipython3",
      "version": "3.7.0"
    },
    "colab": {
      "name": "python_dictionary_drill_starter.ipynb",
      "provenance": [],
      "collapsed_sections": [],
      "include_colab_link": true
    }
  },
  "cells": [
    {
      "cell_type": "markdown",
      "metadata": {
        "id": "view-in-github",
        "colab_type": "text"
      },
      "source": [
        "<a href=\"https://colab.research.google.com/github/jonesmo/learning_python/blob/master/python_dictionary_drill.ipynb\" target=\"_parent\"><img src=\"https://colab.research.google.com/assets/colab-badge.svg\" alt=\"Open In Colab\"/></a>"
      ]
    },
    {
      "cell_type": "markdown",
      "metadata": {
        "id": "l7wB7LcEJs4g",
        "colab_type": "text"
      },
      "source": [
        "## 1: `fillable`\n",
        "\n",
        "You're running an online business and a big part of your day is fulfilling orders. As your volume picks up that's been taking more of your time, and unfortunately lately you've been running into situations where you take an order but can't fulfill it.\n",
        "\n",
        "You've decided to write a function `fillable` that takes three arguments: a dictionary stock representing all the merchandise you have in stock, a string merch representing the thing your customer wants to buy, and an integer `n` representing the number of units of merch they would like to buy. Your function should return `True` if you have the merchandise in stock to complete the sale, otherwise it should return `False`.\n",
        "\n",
        "Valid data will always be passed in and n will always be >= 1."
      ]
    },
    {
      "cell_type": "code",
      "metadata": {
        "id": "fK0xg1dcJs4j",
        "colab_type": "code",
        "colab": {
          "base_uri": "https://localhost:8080/",
          "height": 34
        },
        "outputId": "c047a7f9-68e0-461a-9789-73cde504d02a"
      },
      "source": [
        "def fillable(stock, merch, n):\n",
        "  backstock = stock[merch]\n",
        "  \n",
        "  if merch in stock and n <= backstock:\n",
        "    return \"True\"\n",
        "  else:\n",
        "    return \"False\"\n",
        "\n",
        "stock = {\n",
        "        'pickles' : 7,\n",
        "        'trumpets' : 2437,\n",
        "        'socks' : 5,\n",
        "        'geese' : 10,\n",
        "    }\n",
        "fillable(stock, 'socks', 2 )"
      ],
      "execution_count": 11,
      "outputs": [
        {
          "output_type": "execute_result",
          "data": {
            "text/plain": [
              "'True'"
            ]
          },
          "metadata": {
            "tags": []
          },
          "execution_count": 11
        }
      ]
    },
    {
      "cell_type": "markdown",
      "metadata": {
        "id": "VRsTdt37Js4n",
        "colab_type": "text"
      },
      "source": [
        "## 2: user_contacts\n",
        "\n",
        "You're putting together contact information for all the users of your website to ship them a small gift. You queried your database and got back a list of users, where each user is another list with up to two items: a string representing the user's name and their shipping zip code. Example data might look like:\n",
        "\n",
        "```python\n",
        "[[\"Grae Drake\", 98110], [\"Bethany Kok\"], [\"Alex Nussbacher\", 94101], [\"Darrell Silver\", 11201]]\n",
        "```\n",
        "\n",
        "Notice that one of the users above has a name but doesn't have a zip code.\n",
        "\n",
        "Write a function `user_contacts` that takes a two-dimensional list like the one above and returns a dictionary with an item for each user where the key is the user's name and the value is the user's zip code. If your data doesn't include a zip code then the value should be `None`.\n",
        "\n",
        "For example, using the input above, user_contacts would return this dictionary:\n",
        "\n",
        "```python\n",
        "{\n",
        "    \"Grae Drake\": 98110,\n",
        "    \"Bethany Kok\": None,\n",
        "    \"Alex Nussbacher\": 94101,\n",
        "    \"Darrell Silver\": 11201,    \n",
        "}\n",
        "```\n",
        "\n",
        "You don't have to worry about leading zeros in zip codes."
      ]
    },
    {
      "cell_type": "code",
      "metadata": {
        "id": "kF_TrGdjJs4o",
        "colab_type": "code",
        "colab": {
          "base_uri": "https://localhost:8080/",
          "height": 85
        },
        "outputId": "95564193-36eb-41fd-95ce-e2a0e5424920"
      },
      "source": [
        "def user_contacts(users):\n",
        "  user_dictionary = {}\n",
        "  for user in users:\n",
        "    if len(user) > 1:\n",
        "      user_dictionary[user[0]] = user[1]\n",
        "    else:\n",
        "      user_dictionary[user[0]] = None\n",
        "  return user_dictionary\n",
        "\n",
        "user_contacts([[\"Grae Drake\", 98110], [\"Alex Nussbacher\", 94101], [\"Bethany Kok\"], [\"Darrell Silver\", 11201]])"
      ],
      "execution_count": 38,
      "outputs": [
        {
          "output_type": "execute_result",
          "data": {
            "text/plain": [
              "{'Alex Nussbacher': 94101,\n",
              " 'Bethany Kok': None,\n",
              " 'Darrell Silver': 11201,\n",
              " 'Grae Drake': 98110}"
            ]
          },
          "metadata": {
            "tags": []
          },
          "execution_count": 38
        }
      ]
    }
  ]
}