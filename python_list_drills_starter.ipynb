{
  "nbformat": 4,
  "nbformat_minor": 0,
  "metadata": {
    "kernelspec": {
      "display_name": "Python 3",
      "language": "python",
      "name": "python3"
    },
    "language_info": {
      "codemirror_mode": {
        "name": "ipython",
        "version": 3
      },
      "file_extension": ".py",
      "mimetype": "text/x-python",
      "name": "python",
      "nbconvert_exporter": "python",
      "pygments_lexer": "ipython3",
      "version": "3.7.0"
    },
    "colab": {
      "name": "python_list_drills_starter.ipynb",
      "provenance": [],
      "collapsed_sections": [],
      "include_colab_link": true
    }
  },
  "cells": [
    {
      "cell_type": "markdown",
      "metadata": {
        "id": "view-in-github",
        "colab_type": "text"
      },
      "source": [
        "<a href=\"https://colab.research.google.com/github/jonesmo/learning_python/blob/master/python_list_drills_starter.ipynb\" target=\"_parent\"><img src=\"https://colab.research.google.com/assets/colab-badge.svg\" alt=\"Open In Colab\"/></a>"
      ]
    },
    {
      "cell_type": "markdown",
      "metadata": {
        "id": "zU8WfyUwiOkC",
        "colab_type": "text"
      },
      "source": [
        "## 1: `longest_word_length`\n",
        "\n",
        "Create a function called `longest_word` that takes one argument, a list of words, and returns the length of the longest word in the list.\n",
        "\n",
        "For example, `longest_word(['simple', 'is', 'better', 'than', 'complex'])` should return 7 because the longest word there is complex, at 7 characters.\n",
        "\n",
        "Your function should *not* modify the input list."
      ]
    },
    {
      "cell_type": "code",
      "metadata": {
        "id": "jKiawejYiOkE",
        "colab_type": "code",
        "outputId": "147eb6d9-21a0-40d5-e752-d6b59eb3acb3",
        "colab": {
          "base_uri": "https://localhost:8080/",
          "height": 34
        }
      },
      "source": [
        "def longest_word(words):\n",
        "  words.sort()\n",
        "  print(len(words[0]))\n",
        "\n",
        "words = ['hi','hello','annyeong','hola']\n",
        "longest_word(words)"
      ],
      "execution_count": 0,
      "outputs": [
        {
          "output_type": "stream",
          "text": [
            "8\n"
          ],
          "name": "stdout"
        }
      ]
    },
    {
      "cell_type": "markdown",
      "metadata": {
        "id": "gezmM6J2iOkI",
        "colab_type": "text"
      },
      "source": [
        "## 2: `calculate_grade`\n",
        "\n",
        "You're a statistics professor and the deadline for submitting your students' grades is tonight at midnight. Each student's grade is determined by their mean score across all of the tests they took this semester.\n",
        "\n",
        "You've decided to automate grade calculation by writing a function `calculate_grade` that takes a list of test scores as an argument and returns a one character string representing the student's grade calculated as follows:\n",
        "\n",
        "```\n",
        "90% <= mean score <= 100%: \"A\",\n",
        "80% <= mean score < 90%: \"B\",\n",
        "70% <= mean score < 80%: \"C\",\n",
        "60% <= mean score < 70%: \"D\",\n",
        "mean score < 60%: \"F\"\n",
        "```\n",
        "\n",
        "\n",
        "For example, `calculate_grade([92, 94, 99])` would return \"A\" since the mean score is 95, and `calculate_grade([50, 60, 70, 80, 90])` would return \"C\" since the mean score is 70.\n",
        "\n",
        "Your function should handle an input list of any length greater than zero."
      ]
    },
    {
      "cell_type": "code",
      "metadata": {
        "id": "Z-YfOoCCiOkJ",
        "colab_type": "code",
        "outputId": "ce6b164a-48de-4c8f-da32-e93d59e51c07",
        "colab": {
          "base_uri": "https://localhost:8080/",
          "height": 51
        }
      },
      "source": [
        "def calculate_grade(scores):\n",
        "  score_sum = 0\n",
        "  for score in scores:\n",
        "    score_sum = score + score_sum\n",
        "  mean_score = score_sum / len(scores)\n",
        "  print('Mean score is {}'.format(mean_score))\n",
        "  if mean_score >= 90 and mean_score <= 100:\n",
        "    return 'A'\n",
        "  elif mean_score >= 80 and mean_score < 90:\n",
        "    return 'B'\n",
        "  elif mean_score >= 70 and mean_score < 80:\n",
        "    return 'C'\n",
        "  elif mean_score >= 60 and mean_score < 70:\n",
        "    return 'D'\n",
        "  elif mean_score < 60:\n",
        "    return 'F'\n",
        "\n",
        "print(calculate_grade([62,94,99]))\n"
      ],
      "execution_count": 0,
      "outputs": [
        {
          "output_type": "stream",
          "text": [
            "Mean score is 85.0\n",
            "B\n"
          ],
          "name": "stdout"
        }
      ]
    },
    {
      "cell_type": "markdown",
      "metadata": {
        "id": "kMOQkSTniOkM",
        "colab_type": "text"
      },
      "source": [
        "## 3: `process_data`\n",
        "\n",
        "You have a two-dimensional list in the following format:\n",
        "\n",
        "```python\n",
        "data = [[2, 5], [3, 4], [8, 7]]\n",
        "```\n",
        "\n",
        "Each sub-list contains two items, and each item in the sub-lists is an integer.\n",
        "\n",
        "Write a function `process_data` that processes each sub-list like so:\n",
        "\n",
        "```\n",
        "[2, 5] --> 2 - 5 --> -3\n",
        "[3, 4] --> 3 - 4 --> -1\n",
        "[8, 7] --> 8 - 7 --> 1\n",
        "```\n",
        "\n",
        "and then returns the product of all the processed sub-lists: -3 * -1 * 1 --> 3.\n",
        "d\n",
        "For input, you can trust that neither the main list nor the sublists will be empty."
      ]
    },
    {
      "cell_type": "code",
      "metadata": {
        "id": "rdpML6N7iOkN",
        "colab_type": "code",
        "outputId": "3cb13d9f-d34e-4958-ec53-a8723f7cfccf",
        "colab": {
          "base_uri": "https://localhost:8080/",
          "height": 34
        }
      },
      "source": [
        "def process_data(data):\n",
        "  list_of_differences = []\n",
        "  product = 1\n",
        "  for datum in data:\n",
        "    difference = datum[0] - datum[1]\n",
        "    list_of_differences.append(difference)\n",
        "  for item in list_of_differences:\n",
        "    product = item * product\n",
        "  return product\n",
        "\n",
        "process_data([[2,5], [3,4], [8,7]])"
      ],
      "execution_count": 54,
      "outputs": [
        {
          "output_type": "execute_result",
          "data": {
            "text/plain": [
              "3"
            ]
          },
          "metadata": {
            "tags": []
          },
          "execution_count": 54
        }
      ]
    }
  ]
}