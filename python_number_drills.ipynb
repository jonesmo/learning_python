{
  "nbformat": 4,
  "nbformat_minor": 0,
  "metadata": {
    "kernelspec": {
      "display_name": "Python 3",
      "language": "python",
      "name": "python3"
    },
    "language_info": {
      "codemirror_mode": {
        "name": "ipython",
        "version": 3
      },
      "file_extension": ".py",
      "mimetype": "text/x-python",
      "name": "python",
      "nbconvert_exporter": "python",
      "pygments_lexer": "ipython3",
      "version": "3.7.0"
    },
    "colab": {
      "name": "python_number_drills.ipynb",
      "provenance": [],
      "collapsed_sections": [],
      "include_colab_link": true
    }
  },
  "cells": [
    {
      "cell_type": "markdown",
      "metadata": {
        "id": "view-in-github",
        "colab_type": "text"
      },
      "source": [
        "<a href=\"https://colab.research.google.com/github/jonesmo/learning_python/blob/master/python_number_drills.ipynb\" target=\"_parent\"><img src=\"https://colab.research.google.com/assets/colab-badge.svg\" alt=\"Open In Colab\"/></a>"
      ]
    },
    {
      "cell_type": "markdown",
      "metadata": {
        "id": "zZj8u34QgKMU",
        "colab_type": "text"
      },
      "source": [
        "## 1: Rømer temperature\n",
        "\n",
        "You're writing an excruciatingly detailed alternate history novel set in a world where [Daniel Gabriel Fahrenheit](https://en.wikipedia.org/wiki/Daniel_Gabriel_Fahrenheit) was never born.\n",
        "\n",
        "Since Fahrenheit never lived the world kept on using the [Rømer scale](https://en.wikipedia.org/wiki/R%C3%B8mer_scale), invented by fellow Dane [Ole Rømer](https://en.wikipedia.org/wiki/Ole_R%C3%B8mer) to this very day, skipping over the Fahrenheit and Celsius scales entirely.\n",
        "\n",
        "Your magnum opus contains several thousand references to temperature, but those temperatures are all currently in degrees Celsius. You don't want to convert everything by hand, so you've decided to write a function, `celsius_to_romer` that takes a temperature in degrees Celsius and returns the equivalent temperature in degrees Rømer.\n",
        "\n",
        "For example: `celsius_to_romer(24)` should return 20.1."
      ]
    },
    {
      "cell_type": "code",
      "metadata": {
        "id": "yhQfeC0BgKMW",
        "colab_type": "code",
        "colab": {
          "base_uri": "https://localhost:8080/",
          "height": 34
        },
        "outputId": "8b46c505-a34a-49ba-e0fb-0a172f7f855e"
      },
      "source": [
        "def celsius_to_romer(celsius):\n",
        "  romer = celsius * 21 / 40 + 7.5\n",
        "  return romer\n",
        "\n",
        "print(celsius_to_romer(100))"
      ],
      "execution_count": 1,
      "outputs": [
        {
          "output_type": "stream",
          "text": [
            "60.0\n"
          ],
          "name": "stdout"
        }
      ]
    },
    {
      "cell_type": "markdown",
      "metadata": {
        "id": "CPJ8v7n0gKMZ",
        "colab_type": "text"
      },
      "source": [
        "## 2: Pixelart planning\n",
        "\n",
        "You're laying out a rad pixel art mural to paint on your living room wall in homage to [Paul Robertson](http://68.media.tumblr.com/0f55f7f3789a354cfcda7c2a64f501d1/tumblr_o7eq3biK9s1qhccbco1_500.png), your favorite pixel artist.\n",
        "\n",
        "You want your work to be perfect down to the millimeter. You haven't decided on the dimensions of your piece, how large you want your pixels to be, or which wall you want to use. You just know that you want to fit an exact number of pixels.\n",
        "\n",
        "To help decide those things you've decided to write a function, `is_divisible` that will tell you whether a wall of a certain length can exactly fit an integer number of pixels of a certain length.\n",
        "\n",
        "Your function should take two arguments: the size of the wall in millimeters and the size of a pixel in millimeters. It should return `Tru`e if you can fit an exact number of pixels on the wall, otherwise it should return `False`. For example `is_divisible(4050, 27)` should return `True`, but `is_divisible(4066, 27)` should return `False`.\n",
        "\n",
        "Note: you don't need to use an `if` statement here. Remember that in Python an expression using the `==` comparison operator will evaluate to either `True` or `False`:\n",
        "\n",
        "```\n",
        ">>> def equals_three(num):\n",
        ">>>     return num == 3\n",
        ">>> equals_three(5)\n",
        "False\n",
        ">>> equals_three(3)\n",
        "True\n",
        "```"
      ]
    },
    {
      "cell_type": "code",
      "metadata": {
        "id": "b_okwxmBgKMb",
        "colab_type": "code",
        "colab": {
          "base_uri": "https://localhost:8080/",
          "height": 34
        },
        "outputId": "d2031c4c-aa2c-49fb-ad2b-2153ce948b40"
      },
      "source": [
        "def is_divisible(wall_size, pixel_size):\n",
        "  return wall_size % pixel_size == 0\n",
        "\n",
        "print(is_divisible(4050, 27))"
      ],
      "execution_count": 5,
      "outputs": [
        {
          "output_type": "stream",
          "text": [
            "True\n"
          ],
          "name": "stdout"
        }
      ]
    },
    {
      "cell_type": "markdown",
      "metadata": {
        "id": "6yNuJwhQgKMe",
        "colab_type": "text"
      },
      "source": [
        "## 3: Blue and red marbles\n",
        "\n",
        "You and a friend have decided to play a game to drill your statistical intuitions. The game works like this:\n",
        "\n",
        "You have a bunch of red and blue marbles. To start the game you grab a handful of marbles of each color and put them into the bag, keeping track of how many of each color go in. You take turns reaching into the bag, guessing a color, and then pulling one marble out. You get a point if you guessed correctly. The trick is you only have three seconds to make your guess, so you have to think quickly.\n",
        "\n",
        "You've decided to write a function, `guess_blue` to help automatically calculate whether you should guess blue or red. The function should take four arguments:\n",
        "\n",
        "- the number of blue marbles you put in the bag to start\n",
        "- the number of red marbles you put in the bag to start\n",
        "- the number of blue marbles pulled out so far, and\n",
        "- the number of red marbles pulled out so far.\n",
        "\n",
        "`guess_blue` should return the probability of drawing a blue marble, expressed as a float. For example, guess_blue(5, 5, 2, 3) should return 0.6."
      ]
    },
    {
      "cell_type": "code",
      "metadata": {
        "id": "U3OHY_00gKMf",
        "colab_type": "code",
        "colab": {
          "base_uri": "https://localhost:8080/",
          "height": 34
        },
        "outputId": "a2335275-8ba3-401c-9837-e3a42575085d"
      },
      "source": [
        "def guess_blue(blue_start, red_start, blue_pulled, red_pulled):\n",
        "  return (blue_start - blue_pulled) / (red_start + blue_start - red_pulled - blue_pulled)\n",
        "\n",
        "print(guess_blue(15, 22, 3, 1))"
      ],
      "execution_count": 6,
      "outputs": [
        {
          "output_type": "stream",
          "text": [
            "0.36363636363636365\n"
          ],
          "name": "stdout"
        }
      ]
    },
    {
      "cell_type": "markdown",
      "metadata": {
        "id": "DnPXl-FdgKMi",
        "colab_type": "text"
      },
      "source": [
        "## 4: Congo pizza\n",
        "\n",
        "Your company, [Congo Pizza](http://interesting-africa-facts.com/Africa-Landforms/Congo-Rainforest-Facts.html), is the second-largest online frozen pizza retailer. You own a number of international warehouses that you use to store your frozen pizzas, and you need to figure out how many crates of pizzas you can store at each location.\n",
        "\n",
        "Congo recently standardized its storage containers: all pizzas fit inside a cubic crate, 16-inchs on a side. The crates are super tough so you can stack them as high as you want.\n",
        "\n",
        "Write a function `box_capacity` that figures out how many crates you can store in a given warehouse. The function should take three arguments: the length, width, and height of your warehouse (in feet) and should return an integer representing the number of boxes you can store in that space.\n",
        "\n",
        "For example: a warehouse 32 feet long, 64 feet wide, and 16 feet high can hold 13,824 boxes because you can fit 24 boxes across, 48 boxes deep, and 12 boxes high, so `box_capacity(32, 64, 16)` should return 13824."
      ]
    },
    {
      "cell_type": "code",
      "metadata": {
        "id": "EaRb59-GgKMj",
        "colab_type": "code",
        "colab": {
          "base_uri": "https://localhost:8080/",
          "height": 34
        },
        "outputId": "78468456-ab4c-48eb-989e-bee01dba3100"
      },
      "source": [
        "def box_capacity(length, width, height):\n",
        "  length_in = length * 12\n",
        "  width_in = width * 12\n",
        "  height_in = height * 12\n",
        "  num_deep = length_in // 16\n",
        "  num_across = width_in // 16\n",
        "  num_high = height_in // 16\n",
        "  return num_deep * num_across * num_high\n",
        "\n",
        "print(box_capacity(32,64,16))"
      ],
      "execution_count": 9,
      "outputs": [
        {
          "output_type": "stream",
          "text": [
            "13824\n"
          ],
          "name": "stdout"
        }
      ]
    }
  ]
}