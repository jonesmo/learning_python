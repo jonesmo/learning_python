{
  "nbformat": 4,
  "nbformat_minor": 0,
  "metadata": {
    "kernelspec": {
      "display_name": "Python 3",
      "language": "python",
      "name": "python3"
    },
    "language_info": {
      "codemirror_mode": {
        "name": "ipython",
        "version": 3
      },
      "file_extension": ".py",
      "mimetype": "text/x-python",
      "name": "python",
      "nbconvert_exporter": "python",
      "pygments_lexer": "ipython3",
      "version": "3.7.0"
    },
    "colab": {
      "name": "python_strings_drills_4.5.ipynb",
      "provenance": [],
      "collapsed_sections": [],
      "include_colab_link": true
    }
  },
  "cells": [
    {
      "cell_type": "markdown",
      "metadata": {
        "id": "view-in-github",
        "colab_type": "text"
      },
      "source": [
        "<a href=\"https://colab.research.google.com/github/jonesmo/learning_python/blob/master/python_strings_drills_4_5.ipynb\" target=\"_parent\"><img src=\"https://colab.research.google.com/assets/colab-badge.svg\" alt=\"Open In Colab\"/></a>"
      ]
    },
    {
      "cell_type": "markdown",
      "metadata": {
        "id": "h_69Ax8mOtkr",
        "colab_type": "text"
      },
      "source": [
        "## 1: Hello world\n",
        "\n",
        "Create a function called `hello` that takes one argument (`person`, a string) and returns a string saying hello to that person. The result should be formatted so that when you call the function like this:\n",
        "\n",
        "```python\n",
        "hello('Moon')\n",
        "```\n",
        "\n",
        "you return a string that looks like this:\n",
        "\n",
        "```python\n",
        "'Hello, Moon'\n",
        "```"
      ]
    },
    {
      "cell_type": "code",
      "metadata": {
        "id": "uhGqrjWzOtkt",
        "colab_type": "code",
        "outputId": "dcb4bb4e-26c1-4d5a-c76d-8e2e71357af1",
        "colab": {
          "base_uri": "https://localhost:8080/",
          "height": 34
        }
      },
      "source": [
        "def hello(person):\n",
        "  return 'Hello, {}'.format(person)\n",
        "\n",
        "print(hello('Jimi'))"
      ],
      "execution_count": 0,
      "outputs": [
        {
          "output_type": "stream",
          "text": [
            "Hello, Jimi\n"
          ],
          "name": "stdout"
        }
      ]
    },
    {
      "cell_type": "markdown",
      "metadata": {
        "id": "n31yvWBcOtkx",
        "colab_type": "text"
      },
      "source": [
        "<br>\n",
        "\n",
        "## 2: Quotable\n",
        "\n",
        "1. [Quotable](https://www.codewars.com/kata/thinkful-string-drills-quotable/)\n",
        "\n",
        "Create a function called `quotable` that takes a person's name as a parameter called `name` and a quote of theirs as a parameter called `quote`, and return a string attributing the quote to the person in the following format:\n",
        "\n",
        "```\n",
        "'[name] said: \"[quote]\"'\n",
        "```\n",
        "\n",
        "For example, if name is 'Grae' and 'quote' is 'Practice makes perfect' then your function should return the string\n",
        "\n",
        "'Grae said: \"Practice makes perfect\"'\n",
        "Unfortunately, something is wrong with the instructions in the function body. Your job is to fix it so the function returns correctly formatted quotes.\n",
        "\n",
        "Be careful with your quotation marks!"
      ]
    },
    {
      "cell_type": "code",
      "metadata": {
        "id": "cfDODEx7QY4l",
        "colab_type": "code",
        "outputId": "060e5faa-97c8-46da-d4e8-5692b02f40bd",
        "colab": {
          "base_uri": "https://localhost:8080/",
          "height": 34
        }
      },
      "source": [
        "def quotable(name, quote):\n",
        "  return '{} said: \\\"{}\\\"'.format(name, quote)\n",
        "\n",
        "print(quotable('Jimi','meow'))"
      ],
      "execution_count": 0,
      "outputs": [
        {
          "output_type": "stream",
          "text": [
            "Jimi said: \"meow\"\n"
          ],
          "name": "stdout"
        }
      ]
    },
    {
      "cell_type": "markdown",
      "metadata": {
        "id": "047AtjJYOtky",
        "colab_type": "text"
      },
      "source": [
        "## 3: Jedi name\n",
        "\n",
        "You just took a contract with the Jedi council. They need you to write a function, greet_jedi(), which takes two arguments (a first name and a last name), works out the corresponding Jedi name, and returns a string greeting the Jedi.\n",
        "\n",
        "A person's Jedi name is the first three letters of their last name followed by the first two letters of their first name. For example:\n",
        "\n",
        "```\n",
        ">>> greet_jedi('Beyonce', 'Knowles')\n",
        "'Greetings, master KnoBe'\n",
        "```\n",
        "\n",
        "Note the capitalization: the first letter of each name is capitalized. Your input may or may not be capitalized. Your function should handle it and return the Jedi name in the correct case no matter what case the input is in:\n",
        "\n",
        "```\n",
        ">>> greet_jedi('grae', 'drake')\n",
        "'Greetings, master DraGr'\n",
        "```"
      ]
    },
    {
      "cell_type": "code",
      "metadata": {
        "id": "sHz2VlJmRIml",
        "colab_type": "code",
        "outputId": "46b92f13-bc52-4db2-c75c-44d67388ed03",
        "colab": {
          "base_uri": "https://localhost:8080/",
          "height": 34
        }
      },
      "source": [
        "def greet_jedi(first, last):\n",
        "  three_letters = last[0:3]\n",
        "  two_letters = first[0:2]\n",
        "  return ''.join([three_letters.capitalize(), two_letters.capitalize()])\n",
        "\n",
        "print(greet_jedi('octopus','breath'))"
      ],
      "execution_count": 0,
      "outputs": [
        {
          "output_type": "stream",
          "text": [
            "BreOc\n"
          ],
          "name": "stdout"
        }
      ]
    },
    {
      "cell_type": "markdown",
      "metadata": {
        "id": "I0_HcoLBOtk0",
        "colab_type": "text"
      },
      "source": [
        "## 4: Poem formatter\n",
        "\n",
        "You have a collection of lovely poems. Unfortuantely they aren't formatted very well. They're all on one line, like this:\n",
        "\n",
        "```\n",
        "Beautiful is better than ugly. Explicit is better than implicit. Simple is better than complex. Complex is better than complicated.\n",
        "```\n",
        "\n",
        "What you want is to present each sentence on a new line, so that it looks like this:\n",
        "\n",
        "```\n",
        "Beautiful is better than ugly.\n",
        "Explicit is better than implicit.\n",
        "Simple is better than complex.\n",
        "Complex is better than complicated.\n",
        "```\n",
        "\n",
        "Write a function called `format_poem` that takes a string like the one-line example as an argument and returns a new string that is formatted across multiple lines with each new sentence starting on a new line when you print it out.\n",
        "\n",
        "Hint: You may find the `str.split()` and the `str.join()` string methods to be helpful.\n",
        "\n",
        "Every sentence will end with a period, and every new sentence will have one space before the previous period. Be careful about trailing whitespace in your solution."
      ]
    },
    {
      "cell_type": "code",
      "metadata": {
        "id": "RJZM5Zk_Otk1",
        "colab_type": "code",
        "outputId": "540f72b0-010a-4999-efba-1e62eb41860e",
        "colab": {
          "base_uri": "https://localhost:8080/",
          "height": 85
        }
      },
      "source": [
        "def format_poem(poem):\n",
        "  list_of_lines = poem.split('. ')\n",
        "  return '\\n'.join(list_of_lines)\n",
        "\n",
        "print(format_poem('I think that I. Shall never see. A poem as lovely. As a tree.'))"
      ],
      "execution_count": 68,
      "outputs": [
        {
          "output_type": "stream",
          "text": [
            "I think that I\n",
            "Shall never see\n",
            "A poem as lovely\n",
            "As a tree.\n"
          ],
          "name": "stdout"
        }
      ]
    }
  ]
}